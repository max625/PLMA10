{
  "nbformat": 4,
  "nbformat_minor": 0,
  "metadata": {
    "colab": {
      "provenance": []
    },
    "kernelspec": {
      "name": "python3",
      "display_name": "Python 3"
    },
    "language_info": {
      "name": "python"
    }
  },
  "cells": [
    {
      "cell_type": "code",
      "execution_count": null,
      "metadata": {
        "id": "rYNgihzBoxr3"
      },
      "outputs": [],
      "source": [
        "for a in range(1, 10):\n",
        "    for b in range(1, 10):\n",
        "        print(f'{a} * {b} = {a*b:<2} ',end=' ')\n",
        "    print('')"
      ]
    },
    {
      "cell_type": "code",
      "source": [
        "i=1;\n",
        "while i < 10:\n",
        "    j=1\n",
        "    while j < 10:\n",
        "        s=  i*j\n",
        "        print (f'{j} X {i} = {i*j:<2} ',end=' ')\n",
        "        j += 1\n",
        "\n",
        "    i += 1\n",
        "    print('\\n')\n"
      ],
      "metadata": {
        "colab": {
          "base_uri": "https://localhost:8080/"
        },
        "id": "Zed00xf6pQH8",
        "outputId": "78cd6779-f030-4855-823c-12c4b49c9f65"
      },
      "execution_count": 4,
      "outputs": [
        {
          "output_type": "stream",
          "name": "stdout",
          "text": [
            "1 X 1 = 1   2 X 1 = 2   3 X 1 = 3   4 X 1 = 4   5 X 1 = 5   6 X 1 = 6   7 X 1 = 7   8 X 1 = 8   9 X 1 = 9   \n",
            "\n",
            "1 X 2 = 2   2 X 2 = 4   3 X 2 = 6   4 X 2 = 8   5 X 2 = 10  6 X 2 = 12  7 X 2 = 14  8 X 2 = 16  9 X 2 = 18  \n",
            "\n",
            "1 X 3 = 3   2 X 3 = 6   3 X 3 = 9   4 X 3 = 12  5 X 3 = 15  6 X 3 = 18  7 X 3 = 21  8 X 3 = 24  9 X 3 = 27  \n",
            "\n",
            "1 X 4 = 4   2 X 4 = 8   3 X 4 = 12  4 X 4 = 16  5 X 4 = 20  6 X 4 = 24  7 X 4 = 28  8 X 4 = 32  9 X 4 = 36  \n",
            "\n",
            "1 X 5 = 5   2 X 5 = 10  3 X 5 = 15  4 X 5 = 20  5 X 5 = 25  6 X 5 = 30  7 X 5 = 35  8 X 5 = 40  9 X 5 = 45  \n",
            "\n",
            "1 X 6 = 6   2 X 6 = 12  3 X 6 = 18  4 X 6 = 24  5 X 6 = 30  6 X 6 = 36  7 X 6 = 42  8 X 6 = 48  9 X 6 = 54  \n",
            "\n",
            "1 X 7 = 7   2 X 7 = 14  3 X 7 = 21  4 X 7 = 28  5 X 7 = 35  6 X 7 = 42  7 X 7 = 49  8 X 7 = 56  9 X 7 = 63  \n",
            "\n",
            "1 X 8 = 8   2 X 8 = 16  3 X 8 = 24  4 X 8 = 32  5 X 8 = 40  6 X 8 = 48  7 X 8 = 56  8 X 8 = 64  9 X 8 = 72  \n",
            "\n",
            "1 X 9 = 9   2 X 9 = 18  3 X 9 = 27  4 X 9 = 36  5 X 9 = 45  6 X 9 = 54  7 X 9 = 63  8 X 9 = 72  9 X 9 = 81  \n",
            "\n"
          ]
        }
      ]
    },
    {
      "cell_type": "code",
      "source": [
        "import random\n",
        "answer = random.sample(range(1, 10), 4)\n",
        "print(f'答案：{answer}')\n",
        "a = b = n = 0\n",
        "num = 0\n",
        "while a!=4:\n",
        "    num += 1\n",
        "    a = b = n = 0\n",
        "    user = list(input('輸入四個數字：'))\n",
        "    for i in user:\n",
        "        if int(user[n]) == answer[n]:\n",
        "            a += 1\n",
        "        else:\n",
        "            if int(i) in answer:\n",
        "                b += 1\n",
        "        n += 1\n",
        "    output = ','.join(user).replace(',','')\n",
        "    print(f'{output}: {a}A{b}B')\n",
        "print(f'答對了！總共猜了 {num} 次')\n"
      ],
      "metadata": {
        "colab": {
          "base_uri": "https://localhost:8080/"
        },
        "id": "jd0l2buUqxnO",
        "outputId": "3554d1e9-92c5-4ffd-da3b-b023153403d1"
      },
      "execution_count": 11,
      "outputs": [
        {
          "output_type": "stream",
          "name": "stdout",
          "text": [
            "答案：[3, 9, 1, 7]\n",
            "輸入四個數字：3567\n",
            "3567: 2A0B\n",
            "輸入四個數字：3679\n",
            "3679: 1A2B\n",
            "輸入四個數字：3556\n",
            "3556: 1A0B\n",
            "輸入四個數字：2345\n",
            "2345: 0A1B\n",
            "輸入四個數字：2355\n",
            "2355: 0A1B\n",
            "輸入四個數字：3917\n",
            "3917: 4A0B\n",
            "答對了！總共猜了 6 次\n"
          ]
        }
      ]
    }
  ]
}